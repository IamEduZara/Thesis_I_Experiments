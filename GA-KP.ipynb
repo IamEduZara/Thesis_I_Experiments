{
 "cells": [
  {
   "cell_type": "code",
   "execution_count": 23,
   "metadata": {},
   "outputs": [],
   "source": [
    "# Modules\n",
    "import random\n",
    "import numpy\n",
    "import matplotlib.pyplot\n",
    "import os"
   ]
  },
  {
   "cell_type": "code",
   "execution_count": 24,
   "metadata": {},
   "outputs": [],
   "source": [
    "os.chdir(r\"C:\\Users\\xedua\\OneDrive\\Escritorio\\MCC-I\\Semester_1\\Intelligent Systems\\HWA\\KP instances\")"
   ]
  },
  {
   "cell_type": "code",
   "execution_count": 25,
   "metadata": {},
   "outputs": [],
   "source": [
    "# Generator/Selection of PIs\n",
    "def instances(n, kp_limit):\n",
    "    if kp_limit != 0: # If a knapsack limit is defined, instances are generated\n",
    "        PIs = []\n",
    "        for element in range(n):\n",
    "            PIs.append((random.uniform(1.0, 15.0), random.randint(1, kp_limit//3))) # (value (1-15), weight (1 - 1/3kp))\n",
    "        return PIs, kp_limit\n",
    "    else: # When the knapsack limit is not defined, then a instance from the library is used\n",
    "        import os\n",
    "        os.chdir(r\"C:\\Users\\xedua\\OneDrive\\Escritorio\\MCC-I\\Semester_1\\Intelligent Systems\\HWA\\KP instances\")\n",
    "        fileName = f'ks_{n}_0' # Introduces the PIs number into the filename that will be requested\n",
    "        f = open(fileName, \"r\")\n",
    "        lines = f.readlines()\n",
    "        line = lines[0].split(\",\")\n",
    "        nbItems = int(line[0].strip())\n",
    "        maxWeight = int(line[1].strip())\n",
    "        items = [None] * nbItems\n",
    "        for i in range(0, nbItems):\n",
    "            line = lines[i + 1].split(\",\")\n",
    "            weight = int(line[0].strip())\n",
    "            profit = float(line[1].strip())\n",
    "            items[i] = (profit, weight) # Shifts order from (weight, profit) to (weight, profit)\n",
    "        problem = (maxWeight, items) # Problem stores, maxweight and items\n",
    "        PIs = list() # Creates a new list for the PIs\n",
    "        for element in problem[1]: # Each  item properties\n",
    "            PIs.append(element) # Stores/isolates the items properties in a new list\n",
    "        kp_limit = problem[0] # Stores/isolates the kp limit in a new variable\n",
    "        return PIs, kp_limit # Returns the items properties and the kp limit "
   ]
  },
  {
   "cell_type": "code",
   "execution_count": 26,
   "metadata": {},
   "outputs": [],
   "source": [
    "# Individual initialization\n",
    "def createIndividual(n):\n",
    "  return numpy.random.randint(0, 2, n)"
   ]
  },
  {
   "cell_type": "code",
   "execution_count": 27,
   "metadata": {},
   "outputs": [],
   "source": [
    "# Crossover operator\n",
    "def combine(parentA, parentB, cRate):\n",
    "  if (random.random() <= cRate):\n",
    "    cPoint = numpy.random.randint(1, len(parentA))\n",
    "    offspringA = numpy.append(parentA[0:cPoint], parentB[cPoint:])\n",
    "    offspringB = numpy.append(parentB[0:cPoint], parentA[cPoint:])\n",
    "  else:\n",
    "    offspringA = numpy.copy(parentA)\n",
    "    offspringB = numpy.copy(parentB)\n",
    "  return offspringA, offspringB"
   ]
  },
  {
   "cell_type": "code",
   "execution_count": 28,
   "metadata": {},
   "outputs": [],
   "source": [
    "# Mutation operator\n",
    "def mutate(individual, mRate):\n",
    "  for i in range(len(individual)):\n",
    "    if (random.random() <= mRate):\n",
    "      individual[i] = not(individual[i])\n",
    "  return individual"
   ]
  },
  {
   "cell_type": "code",
   "execution_count": 29,
   "metadata": {},
   "outputs": [],
   "source": [
    "# Evaluation function # It was changed\n",
    "def evaluate(P, individual, kp): # P is my list of items, kp is the max size the knapsack can hold\n",
    "    s1 = (0, 0) #  I have a tuple instead (value, weight)\n",
    "    for i in range(len(P)):\n",
    "        if individual[i] == 1: # Individual of 1, means position i object is in the knapsack\n",
    "            s1 = (s1[0] + P[i][0], s1[1] + P[i][1]) # Sums up the value and the weight in the s1 tuple\n",
    "    return s1"
   ]
  },
  {
   "cell_type": "code",
   "execution_count": 30,
   "metadata": {},
   "outputs": [],
   "source": [
    "# Tournament selection # It was changed\n",
    "def select(population, evaluation, tSize): \n",
    "  winner = numpy.random.randint(0, len(population))\n",
    "  for i in range(tSize - 1):\n",
    "    rival = numpy.random.randint(0, len(population))\n",
    "    if (evaluation[rival][0] > evaluation[winner][0]):\n",
    "      winner = rival\n",
    "  return population[winner]"
   ]
  },
  {
   "cell_type": "code",
   "execution_count": 31,
   "metadata": {},
   "outputs": [],
   "source": [
    "# Dooming of individuals\n",
    "def extinguish(population, evaluation, kp_limit): # Receives population, evaluation and the knapsack weight limit\n",
    "    index_list = []\n",
    "    for i in range(len(evaluation)):\n",
    "        if evaluation[i][1] > kp_limit:\n",
    "            index_list.append(i)\n",
    "    for index in sorted(index_list, reverse = True):\n",
    "        del population[index]\n",
    "        del evaluation[index]\n",
    "    return population, evaluation"
   ]
  },
  {
   "cell_type": "code",
   "execution_count": 69,
   "metadata": {},
   "outputs": [],
   "source": [
    "# Genetic algorithm\n",
    "from numpy import delete\n",
    "def geneticAlgorithm(PIs, population_size, generations, cRate, mRate, kp_limit):\n",
    "  \n",
    "  # Creates the initial population\n",
    "  number_objects = len(PIs)\n",
    "  population = []\n",
    "  evaluation = []\n",
    "  noneindexes = []\n",
    "\n",
    "  for i in range(population_size):\n",
    "    population.append(createIndividual(number_objects))\n",
    "    evaluation.append(evaluate(PIs, population[i], kp_limit))\n",
    "  population, evaluation = extinguish(population, evaluation, kp_limit) # Kills the indivuals that exceed the kp_limit size \n",
    "  population_size = len(population)\n",
    "\n",
    "  # Keeps a record of the best individual found so far\n",
    "  index = 0;\n",
    "  for i in range(1, population_size):\n",
    "    if (evaluation[i][0] > evaluation[index][0]):\n",
    "      index = i;\n",
    "  bestIndividual = population[index]\n",
    "  bestEvaluation = evaluation[index][0]\n",
    "  # Keeps the information for plotting the performance of the algorithm\n",
    "  best = [0] * generations\n",
    "  avg = [0] * generations\n",
    "\n",
    "  # Runs the evolutionary process\n",
    "  for i in range(generations):\n",
    "    if population_size % 2 != 0: # For some reason if the population is odd the code crashes, so I fixed the population size\n",
    "      population_size = population_size - 1\n",
    "    newPopulation = []\n",
    "    # Crossover\n",
    "    for j in range(population_size // 2):\n",
    "      parentA = select(population, evaluation, 3)\n",
    "      parentB = select(population, evaluation, 3)\n",
    "      offspring1, offspring2 = combine(parentA, parentB, cRate)\n",
    "      newPopulation.append(offspring1)\n",
    "      newPopulation.append(offspring2)\n",
    "    population = newPopulation\n",
    "    # Mutation\n",
    "    noneindexes = []\n",
    "    for j in range(population_size):\n",
    "      population[j] = mutate(population[j], mRate)\n",
    "      evaluation[j] = evaluate(PIs, population[j], kp_limit) # Added kp\n",
    "    population, evaluation = extinguish(population, evaluation, kp_limit) # Kills the indivuals that exceed the kp_limit size\n",
    "    population_size = len(population)\n",
    "\n",
    "    for j in range(population_size):\n",
    "      # Keeps a record of the best individual found so far\n",
    "      if (evaluation[j][0] > bestEvaluation):\n",
    "        bestEvaluation = evaluation[j][0]\n",
    "        bestIndividual = population[j]\n",
    "        bestIndWeight = population[j][0]\n",
    "      best[i] = bestEvaluation\n",
    "      avg[i] = numpy.average([item[0] for item in evaluation])\n",
    "  matplotlib.pyplot.plot(range(generations), best, label = \"Best\")\n",
    "  matplotlib.pyplot.plot(range(generations), avg, label = \"Average\")\n",
    "  matplotlib.pyplot.legend()\n",
    "  matplotlib.pyplot.title(\"GA Run\")\n",
    "  matplotlib.pyplot.show()\n",
    "  # Returns the best individual found so far\n",
    "  return bestIndividual, bestEvaluation,    "
   ]
  },
  {
   "cell_type": "code",
   "execution_count": 70,
   "metadata": {},
   "outputs": [
    {
     "data": {
      "image/png": "[encoded data removed]",
      "text/plain": [
       "<Figure size 640x480 with 1 Axes>"
      ]
     },
     "metadata": {},
     "output_type": "display_data"
    },
    {
     "name": "stdout",
     "output_type": "stream",
     "text": [
      "The maximum knapsack size is:\n",
      "31181\n",
      "The solution is:\n",
      "[0 0 0 1 0 0 0 0 0 1 0 0 0 1 0 0 1 1 0]\n",
      "The total profit is:\n",
      "11574.0\n"
     ]
    }
   ],
   "source": [
    "PIs, kp_limit = instances(19, 0)\n",
    "solution, eval = geneticAlgorithm(PIs, 100 ,100, 1, 0.01, kp_limit)\n",
    "print('The maximum knapsack size is:')\n",
    "print(kp_limit)\n",
    "print('The solution is:')\n",
    "print(solution)\n",
    "print('The total profit is:')\n",
    "print(eval)"
   ]
  }
 ],
 "metadata": {
  "kernelspec": {
   "display_name": "Python 3.11.0 64-bit",
   "language": "python",
   "name": "python3"
  },
  "language_info": {
   "codemirror_mode": {
    "name": "ipython",
    "version": 3
   },
   "file_extension": ".py",
   "mimetype": "text/x-python",
   "name": "python",
   "nbconvert_exporter": "python",
   "pygments_lexer": "ipython3",
   "version": "3.11.1"
  },
  "orig_nbformat": 4,
  "vscode": {
   "interpreter": {
    "hash": "c20cf987edc46005cdcf3a80419ea7f93da47ce3f9c50aa5b8f8c73488a49111"
   }
  }
 },
 "nbformat": 4,
 "nbformat_minor": 2
}
