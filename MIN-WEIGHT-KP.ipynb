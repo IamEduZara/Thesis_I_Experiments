{
 "cells": [
  {
   "attachments": {},
   "cell_type": "markdown",
   "metadata": {},
   "source": [
    "## Modules"
   ]
  },
  {
   "attachments": {},
   "cell_type": "markdown",
   "metadata": {},
   "source": [
    "For this experiment, Python will be used with the following modules:\n",
    "* Numpy & Random\n",
    "    + For the generation of random values\n",
    "* Os\n",
    "    + To select the workspace path where the problem instance library is located"
   ]
  },
  {
   "cell_type": "code",
   "execution_count": 1,
   "metadata": {},
   "outputs": [],
   "source": [
    "import numpy\n",
    "import random\n",
    "import os"
   ]
  },
  {
   "attachments": {},
   "cell_type": "markdown",
   "metadata": {},
   "source": [
    "## Localizes the Knapsack Instances Library"
   ]
  },
  {
   "cell_type": "code",
   "execution_count": 2,
   "metadata": {},
   "outputs": [],
   "source": [
    "os.chdir(r\"C:\\Users\\xedua\\OneDrive\\Escritorio\\MCC-I\\Semester_2\\Research\\KP instances\")"
   ]
  },
  {
   "attachments": {},
   "cell_type": "markdown",
   "metadata": {},
   "source": [
    "## Generator/Selector of PIs"
   ]
  },
  {
   "attachments": {},
   "cell_type": "markdown",
   "metadata": {},
   "source": [
    "Description of the **_«instances»_** function:\n",
    "\n",
    "* The purpose of this function is to either return a tuple with problem instance objects (inside tuples) from the library with its knapsack limit, or to generate a random problem instance with objects of weight ∈ (1, 15) and value ∈ (1, 1/3 * knapsack limit)\n",
    "\n",
    "* **_Parameters_**\n",
    "\n",
    "    + number_objects: Integer\n",
    "        - The amount of available objects that will contain the problem instance \n",
    "    + k_limit: Integer\n",
    "        - The maximum units that a knapsack solution can contain\n",
    "* **_Returns_**\n",
    "    + PI: List of tuples with integers\n",
    "        - Either the generated or the library selected problem instance, each object is a tuple of (profit, weight)\n",
    "    + k_limit: Integer\n",
    "        - Either the originally specified knapsack limit or the knapsack limit selected from the problem instance library"
   ]
  },
  {
   "cell_type": "code",
   "execution_count": 3,
   "metadata": {},
   "outputs": [],
   "source": [
    "# Generator/Selector of PIs\n",
    "def instances(number_objects, k_limit):\n",
    "    if k_limit != 0: # When knapsack limit is defined, instances are generated\n",
    "        PI = []\n",
    "        for element in range(number_objects):\n",
    "            PI.append((random.randint(1.0, 15.0), random.randint(1, k_limit//3))\n",
    "            ) # Objects ∈ [value (1, 15), weight (1, 1/3kp)]\n",
    "        return PI, k_limit\n",
    "    else: # When knapsack limit undefined, an instance from the library is used\n",
    "        fileName = \"ks_\" + str(number_objects) + \"_0\" # Introduces the number of\n",
    "        # objects into the filename that will be requested from the library\n",
    "        f = open(fileName, \"r\") # Opening, reading, and cleaning the instance\n",
    "        lines = f.readlines()\n",
    "        line = lines[0].split(\",\")\n",
    "        nbItems = int(line[0].strip())\n",
    "        k_limit = int(line[1].strip())\n",
    "        PI = [None] * nbItems\n",
    "        for i in range(0, nbItems):\n",
    "            line = lines[i + 1].split(\",\")\n",
    "            weight = int(line[0].strip())\n",
    "            profit = float(line[1].strip())\n",
    "            PI[i] = (profit, weight) # Saves objects as (profit, weight)\n",
    "        return PI, k_limit # Returns the instance and the knapsack limit "
   ]
  },
  {
   "attachments": {},
   "cell_type": "markdown",
   "metadata": {},
   "source": [
    "## Minimum Weight Heuristic Solution Generator"
   ]
  },
  {
   "attachments": {},
   "cell_type": "markdown",
   "metadata": {},
   "source": [
    "Description of the **_«solver»_** function:\n",
    "\n",
    "* The purpose of this function is to return a list with a solution for a problem instance, which selects the first objects that have the less weight\n",
    "\n",
    "* **_Parameters_**\n",
    "\n",
    "    + PI: List of tuples with integers\n",
    "        - The either generated or selected problem instance \n",
    "        from the **_«instances»_** function\n",
    "    + k_limit: Integer\n",
    "        - Either the originally specified knapsack limit or the knapsack limit selected from the problem instance library, from the **_«instances»_** function\n",
    "* **_Returns_**\n",
    "    \n",
    "    + Solution: List of integers\n",
    "        - A list with numbers ∈ (0, 1) ∨ (Outside Knapsack, Inside Knapsack)\n",
    "            - Each number makes reference to each object from the problem instance"
   ]
  },
  {
   "cell_type": "code",
   "execution_count": 4,
   "metadata": {},
   "outputs": [],
   "source": [
    "# Minimum Weight Heuristic Solution Generator\n",
    "def solver(PI, kp_limit):\n",
    "    number_objects = len(PI)\n",
    "    wgt = 0\n",
    "    MW = []\n",
    "    solution = [0] * number_objects # Creates solution template of 0s\n",
    "    for i in range(number_objects):\n",
    "        MW.append((i, PI[i][0], PI[i][1])) # Adds a new indexed problems list\n",
    "    MW = sorted(MW, key = lambda x: x[2]) # Sorts the new list by weight\n",
    "    for object in MW:\n",
    "        wgt += object[2] # Evaluates the acumulated weight\n",
    "        if wgt <= kp_limit: # When the knapsack is broken, omits the object\n",
    "            solution[object[0]] = 1 # Adds the lighter object until full\n",
    "    return solution"
   ]
  },
  {
   "attachments": {},
   "cell_type": "markdown",
   "metadata": {},
   "source": [
    "## Evaluator of Solutions"
   ]
  },
  {
   "attachments": {},
   "cell_type": "markdown",
   "metadata": {},
   "source": [
    "Description of the **_«evaluator»_** function\n",
    "* The purpose of this function is to evaluate the performance of the solution, it returns a tuple with the (total profit, total weight, state of the knapsack).\n",
    "\n",
    "* **_Parameters_**\n",
    "    + PI: _List of tuples with integers_\n",
    "        - The either generated or selected problem instance from the **_«solver»_** function\n",
    "    + Solution: _List of integers_\n",
    "        - A random list with numbers ∈ (0, 1) ∨ (Outside Knapsack, Inside Knapsack) from the **_«solver»_** function\n",
    "            - Each number makes reference to each object from the problem instance\n",
    "    + k_limit: _Integer_\n",
    "        - Either the originally specified knapsack limit or the knapsack limit selected from the problem instance library, from the **_«instances»_** function\n",
    "* **_Returns_**\n",
    "    + s1: _Tuple with integers_\n",
    "        - A tuple with the total profit, total weight, and the state of the knapsack which may be 0 or 1\n",
    "        "
   ]
  },
  {
   "cell_type": "code",
   "execution_count": 5,
   "metadata": {},
   "outputs": [],
   "source": [
    "# Evaluator of Solutions\n",
    "def evaluator(PI, solution, k_limit):\n",
    "    s1 = (0, 0, 0)\n",
    "    for i in range(len(PI)): # Iterates all the objects in the problem instance\n",
    "        if solution[i] == 1: # When the object is in the knapsack considers the \n",
    "            # object in the evaluation\n",
    "            s1 = (s1[0] + PI[i][0], s1[1] + PI[i][1]) # Sums up the profit and \n",
    "            # the weight of all the items\n",
    "    if s1[1] <= k_limit: # When the knapsack is not broken saves a record of 0\n",
    "        s1 = (s1[0], s1[1], 0)\n",
    "    else:\n",
    "        s1 = (s1[0], s1[1], 1) # When the knapsack is broken saves a record of 1\n",
    "    return s1"
   ]
  },
  {
   "attachments": {},
   "cell_type": "markdown",
   "metadata": {},
   "source": [
    "# Execution of runs"
   ]
  },
  {
   "attachments": {},
   "cell_type": "markdown",
   "metadata": {},
   "source": [
    "* Characteristics of the solution model:\n",
    "    + Solutions are generated by selecting the least heavy objects\n",
    "    + The generated, not library selected objects weight from the problem instances do not exceed 1/3 the knapsack limit, and are not less than 1\n",
    "    + The generated, not library selected objects profit from the problem instances does not exceed 15 units or are less than 1"
   ]
  },
  {
   "attachments": {},
   "cell_type": "markdown",
   "metadata": {},
   "source": [
    "# Run #1"
   ]
  },
  {
   "cell_type": "code",
   "execution_count": 6,
   "metadata": {},
   "outputs": [
    {
     "name": "stdout",
     "output_type": "stream",
     "text": [
      "The maximum knapsack size is: 31181\n",
      "Object set from KP library 19 items\n",
      "(11080.0, 30860, 0)\n"
     ]
    }
   ],
   "source": [
    "PI_1, k_limit_1 = instances(19, 0)\n",
    "solution_1 = solver(PI_1, k_limit_1) # Creates a solution for the provided PI\n",
    "# with the minimum weight heuristic\n",
    "evaluation_1 = evaluator(PI_1, solution_1, k_limit_1) # Evaluates the solutions\n",
    "print(f'The maximum knapsack size is: {k_limit_1}')\n",
    "print('Object set from KP library 19 items')\n",
    "print(evaluation_1)"
   ]
  },
  {
   "attachments": {},
   "cell_type": "markdown",
   "metadata": {},
   "source": [
    "# Run #2"
   ]
  },
  {
   "cell_type": "code",
   "execution_count": 7,
   "metadata": {},
   "outputs": [
    {
     "name": "stdout",
     "output_type": "stream",
     "text": [
      "The maximum knapsack size is: 100000\n",
      "Object set from KP library 40 items\n",
      "(99090.0, 99045, 0)\n"
     ]
    }
   ],
   "source": [
    "PI_2, k_limit_2 = instances(40, 0)\n",
    "solution_2 = solver(PI_2, k_limit_2) # Creates a solution for the provided PI\n",
    "# with the minimum weight heuristic\n",
    "evaluation_2 = evaluator(PI_2, solution_2, k_limit_2) # Evaluates the solutions\n",
    "print(f'The maximum knapsack size is: {k_limit_2}')\n",
    "print('Object set from KP library 40 items')\n",
    "print(evaluation_2)"
   ]
  },
  {
   "attachments": {},
   "cell_type": "markdown",
   "metadata": {},
   "source": [
    "# Run #3"
   ]
  },
  {
   "cell_type": "code",
   "execution_count": 8,
   "metadata": {},
   "outputs": [
    {
     "name": "stdout",
     "output_type": "stream",
     "text": [
      "The maximum knapsack size is: 100000\n",
      "Object set from KP library 60 items\n",
      "(99045.0, 99090, 0)\n"
     ]
    }
   ],
   "source": [
    "PI_3, k_limit_3 = instances(60, 0)\n",
    "solution_3 = solver(PI_3, k_limit_3) # Creates a solution for the provided PI\n",
    "# with the minimum weight heuristic\n",
    "print(f'The maximum knapsack size is: {k_limit_3}')\n",
    "print('Object set from KP library 60 items')\n",
    "evaluation_3 = evaluator(PI_3, solution_3, k_limit_3) # Evaluates the solutions\n",
    "print(evaluation_3)"
   ]
  }
 ],
 "metadata": {
  "kernelspec": {
   "display_name": "Python 3",
   "language": "python",
   "name": "python3"
  },
  "language_info": {
   "codemirror_mode": {
    "name": "ipython",
    "version": 3
   },
   "file_extension": ".py",
   "mimetype": "text/x-python",
   "name": "python",
   "nbconvert_exporter": "python",
   "pygments_lexer": "ipython3",
   "version": "3.11.1"
  },
  "orig_nbformat": 4,
  "vscode": {
   "interpreter": {
    "hash": "c20cf987edc46005cdcf3a80419ea7f93da47ce3f9c50aa5b8f8c73488a49111"
   }
  }
 },
 "nbformat": 4,
 "nbformat_minor": 2
}
